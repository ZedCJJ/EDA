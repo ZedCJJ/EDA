{
 "cells": [
  {
   "cell_type": "code",
   "execution_count": null,
   "id": "e6607d1b",
   "metadata": {},
   "outputs": [],
   "source": [
    "import pandas as pd\n",
    "from sklearn.model_selection import KFold\n",
    "from tensorflow.keras.models import Sequential\n",
    "from tensorflow.keras.layers import Dense\n",
    "import numpy as np\n",
    "import matplotlib.pyplot as plt\n",
    "from sklearn.metrics import mean_squared_error, mean_absolute_error, r2_score\n",
    "\n",
    "data = pd.read_csv('E:/UCL/EDAA/Solar_Energy_Production_v4.3RICHMOND.csv') \n",
    "\n",
    "X = data.drop('kWh', axis=1).values\n",
    "y = data['kWh'].values\n",
    "\n",
    "kf = KFold(n_splits=10, shuffle=True, random_state=1)\n",
    "\n",
    "hidden_layers_range = range(1, 11)\n",
    "neurons_per_layer = 20\n",
    "\n",
    "average_mse_scores = []\n",
    "\n",
    "for hidden_layers in hidden_layers_range:\n",
    "    fold_mse_scores = []\n",
    "    \n",
    "    for train_index, test_index in kf.split(X):\n",
    "        X_train, X_test = X[train_index], X[test_index]\n",
    "        y_train, y_test = y[train_index], y[test_index]\n",
    "        \n",
    "        model = Sequential()\n",
    "        model.add(Dense(neurons_per_layer, activation='relu', input_shape=(X_train.shape[1],)))\n",
    "        for _ in range(hidden_layers - 1):\n",
    "            model.add(Dense(neurons_per_layer, activation='relu'))\n",
    "        model.add(Dense(1))\n",
    "        \n",
    "        model.compile(optimizer='adam', loss='mean_squared_error')\n",
    "        \n",
    "        model.fit(X_train, y_train, epochs=50, batch_size=32, verbose=0)\n",
    "        \n",
    "        predictions = model.predict(X_test)\n",
    "        mse = mean_squared_error(y_test, predictions)\n",
    "        fold_mse_scores.append(mse)\n",
    "    \n",
    "    average_mse = np.mean(fold_mse_scores)\n",
    "    average_mse_scores.append(average_mse)\n",
    "\n",
    "plt.figure(figsize=(10, 6))\n",
    "plt.plot(hidden_layers_range, average_mse_scores, marker='o')\n",
    "plt.title('Average MSE vs. Number of Hidden Layers')\n",
    "plt.xlabel('Number of Hidden Layers')\n",
    "plt.ylabel('Average MSE')\n",
    "plt.show()\n"
   ]
  },
  {
   "cell_type": "code",
   "execution_count": 2,
   "id": "6c2b2f46",
   "metadata": {},
   "outputs": [
    {
     "ename": "NameError",
     "evalue": "name 'kf' is not defined",
     "output_type": "error",
     "traceback": [
      "\u001b[1;31m---------------------------------------------------------------------------\u001b[0m",
      "\u001b[1;31mNameError\u001b[0m                                 Traceback (most recent call last)",
      "Cell \u001b[1;32mIn[2], line 15\u001b[0m\n\u001b[0;32m     12\u001b[0m mape_scores \u001b[38;5;241m=\u001b[39m []\n\u001b[0;32m     14\u001b[0m \u001b[38;5;66;03m# 10折交叉验证\u001b[39;00m\n\u001b[1;32m---> 15\u001b[0m \u001b[38;5;28;01mfor\u001b[39;00m train_index, test_index \u001b[38;5;129;01min\u001b[39;00m \u001b[43mkf\u001b[49m\u001b[38;5;241m.\u001b[39msplit(X):\n\u001b[0;32m     16\u001b[0m     \u001b[38;5;66;03m# 分割数据\u001b[39;00m\n\u001b[0;32m     17\u001b[0m     X_train, X_test \u001b[38;5;241m=\u001b[39m X[train_index], X[test_index]\n\u001b[0;32m     18\u001b[0m     y_train, y_test \u001b[38;5;241m=\u001b[39m y[train_index], y[test_index]\n",
      "\u001b[1;31mNameError\u001b[0m: name 'kf' is not defined"
     ]
    }
   ],
   "source": [
    "from sklearn.metrics import r2_score\n",
    "from sklearn.metrics import mean_absolute_error\n",
    "\n",
    "best_hidden_layers = 6\n",
    "\n",
    "r_squared_scores = []\n",
    "mse_scores = []\n",
    "nrmse_scores = []\n",
    "nmae_scores = []\n",
    "mape_scores = []\n",
    "\n",
    "for train_index, test_index in kf.split(X):\n",
    "    X_train, X_test = X[train_index], X[test_index]\n",
    "    y_train, y_test = y[train_index], y[test_index]\n",
    "\n",
    "    model = Sequential()\n",
    "    model.add(Dense(neurons_per_layer, activation='relu', input_shape=(X_train.shape[1],)))\n",
    "    for _ in range(best_hidden_layers - 1):\n",
    "        model.add(Dense(neurons_per_layer, activation='relu'))\n",
    "    model.add(Dense(1))\n",
    "\n",
    "    model.compile(optimizer='adam', loss='mean_squared_error')\n",
    "    model.fit(X_train, y_train, epochs=50, batch_size=32, verbose=0)\n",
    "\n",
    "    predictions = model.predict(X_test).flatten()\n",
    "    mse = mean_squared_error(y_test, predictions)\n",
    "    r2 = r2_score(y_test, predictions)\n",
    "    nrmse = np.sqrt(mse) / np.mean(y_test)\n",
    "    nmae = mean_absolute_error(y_test, predictions) / np.mean(y_test)\n",
    "    mape = np.mean(np.abs((y_test - predictions) / y_test)) * 100\n",
    "\n",
    "    r_squared_scores.append(r2)\n",
    "    mse_scores.append(mse)\n",
    "    nrmse_scores.append(nrmse)\n",
    "    nmae_scores.append(nmae)\n",
    "    mape_scores.append(mape)\n",
    "\n",
    "mean_r_squared = np.mean(r_squared_scores)\n",
    "std_dev_r_squared = np.std(r_squared_scores)\n",
    "mean_mse = np.mean(mse_scores)\n",
    "std_mse = np.std(mse_scores)\n",
    "mean_nrmse = np.mean(nrmse_scores)\n",
    "mean_nmae = np.mean(nmae_scores)\n",
    "mean_mape = np.mean(mape_scores)\n",
    "\n",
    "print(f\"R-squared: Mean = {mean_r_squared}, Std Dev = {std_dev_r_squared}\")\n",
    "print(f\"MSE: Mean = {mean_mse}, Std Dev = {std_mse}\")\n",
    "print(f\"NRMSE: Mean = {mean_nrmse}\")\n",
    "print(f\"NMAE: Mean = {mean_nmae}\")\n",
    "print(f\"MAPE: Mean = {mean_mape}\")\n",
    "\n"
   ]
  },
  {
   "cell_type": "code",
   "execution_count": 1,
   "id": "a58b6eb0",
   "metadata": {},
   "outputs": [
    {
     "ename": "NameError",
     "evalue": "name 'y_test' is not defined",
     "output_type": "error",
     "traceback": [
      "\u001b[1;31m---------------------------------------------------------------------------\u001b[0m",
      "\u001b[1;31mNameError\u001b[0m                                 Traceback (most recent call last)",
      "Cell \u001b[1;32mIn[1], line 4\u001b[0m\n\u001b[0;32m      1\u001b[0m \u001b[38;5;28;01mimport\u001b[39;00m \u001b[38;5;21;01mmatplotlib\u001b[39;00m\u001b[38;5;21;01m.\u001b[39;00m\u001b[38;5;21;01mpyplot\u001b[39;00m \u001b[38;5;28;01mas\u001b[39;00m \u001b[38;5;21;01mplt\u001b[39;00m\n\u001b[0;32m      3\u001b[0m \u001b[38;5;66;03m# 假设predictions是您模型的预测结果，y_test是对应的实际值\u001b[39;00m\n\u001b[1;32m----> 4\u001b[0m plt\u001b[38;5;241m.\u001b[39mscatter(\u001b[43my_test\u001b[49m, predictions)\n\u001b[0;32m      5\u001b[0m plt\u001b[38;5;241m.\u001b[39mxlabel(\u001b[38;5;124m'\u001b[39m\u001b[38;5;124mActual Values\u001b[39m\u001b[38;5;124m'\u001b[39m)\n\u001b[0;32m      6\u001b[0m plt\u001b[38;5;241m.\u001b[39mylabel(\u001b[38;5;124m'\u001b[39m\u001b[38;5;124mPredicted Values\u001b[39m\u001b[38;5;124m'\u001b[39m)\n",
      "\u001b[1;31mNameError\u001b[0m: name 'y_test' is not defined"
     ]
    }
   ],
   "source": [
    "import matplotlib.pyplot as plt\n",
    "\n",
    "plt.scatter(y_test, predictions)\n",
    "plt.xlabel('Actual Values')\n",
    "plt.ylabel('Predicted Values')\n",
    "plt.title('Actual vs Predicted Values')\n",
    "plt.plot([min(y_test), max(y_test)], [min(y_test), max(y_test)], color='black', linestyle='--') \n",
    "plt.show()\n"
   ]
  },
  {
   "cell_type": "code",
   "execution_count": 10,
   "id": "2bc41bcc",
   "metadata": {},
   "outputs": [
    {
     "data": {
      "image/png": "[encoded data removed]",
      "text/plain": [
       "<Figure size 640x480 with 1 Axes>"
      ]
     },
     "metadata": {},
     "output_type": "display_data"
    }
   ],
   "source": [
    "errors = predictions - y_test\n",
    "plt.hist(errors, bins=25)\n",
    "plt.xlabel('Prediction Error')\n",
    "plt.ylabel('Frequency')\n",
    "plt.title('Prediction Error Distribution')\n",
    "plt.show()"
   ]
  },
  {
   "cell_type": "code",
   "execution_count": null,
   "id": "d7cb66ca",
   "metadata": {},
   "outputs": [],
   "source": [
    "\n"
   ]
  },
  {
   "cell_type": "code",
   "execution_count": null,
   "id": "cf2fcafb",
   "metadata": {},
   "outputs": [],
   "source": []
  }
 ],
 "metadata": {
  "kernelspec": {
   "display_name": "Python 3 (ipykernel)",
   "language": "python",
   "name": "python3"
  },
  "language_info": {
   "codemirror_mode": {
    "name": "ipython",
    "version": 3
   },
   "file_extension": ".py",
   "mimetype": "text/x-python",
   "name": "python",
   "nbconvert_exporter": "python",
   "pygments_lexer": "ipython3",
   "version": "3.10.9"
  }
 },
 "nbformat": 4,
 "nbformat_minor": 5
}
